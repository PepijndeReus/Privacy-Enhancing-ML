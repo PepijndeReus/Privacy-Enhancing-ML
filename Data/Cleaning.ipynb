{
 "cells": [
  {
   "cell_type": "markdown",
   "metadata": {},
   "source": [
    "## Data cleaning\n",
    "\n",
    "This notebook cleans the Adult data set obtained from the UCI ML Repo (https://archive.ics.uci.edu/ml/datasets/Adult).\n",
    "\n",
    "Please note that the data is not added to git and has to be downloaded manually into an \"Adult\" folder within the current folder (Data). The Student Performance does not contain NA values and thus will not be cleaned."
   ]
  },
  {
   "cell_type": "code",
   "execution_count": 1,
   "metadata": {},
   "outputs": [
    {
     "name": "stdout",
     "output_type": "stream",
     "text": [
      "Length before cleaning: 32561\n",
      "Length after cleaning: 30162\n",
      "Training set saved!\n",
      "\n"
     ]
    },
    {
     "name": "stderr",
     "output_type": "stream",
     "text": [
      "/var/folders/11/yrj1djtx66v8pmqdknyqpq0m0000gn/T/ipykernel_40595/3953395621.py:19: FutureWarning: In a future version of pandas all arguments of DataFrame.drop except for the argument 'labels' will be keyword-only.\n",
      "  adult = adult.drop('education_num', 1)\n",
      "/var/folders/11/yrj1djtx66v8pmqdknyqpq0m0000gn/T/ipykernel_40595/3953395621.py:20: FutureWarning: In a future version of pandas all arguments of DataFrame.drop except for the argument 'labels' will be keyword-only.\n",
      "  adult = adult.drop('fnlwgt', 1)\n"
     ]
    },
    {
     "name": "stdout",
     "output_type": "stream",
     "text": [
      "Length before cleaning: 16282\n",
      "Length after cleaning: 15060\n"
     ]
    },
    {
     "name": "stderr",
     "output_type": "stream",
     "text": [
      "/var/folders/11/yrj1djtx66v8pmqdknyqpq0m0000gn/T/ipykernel_40595/3953395621.py:37: FutureWarning: In a future version of pandas all arguments of DataFrame.drop except for the argument 'labels' will be keyword-only.\n",
      "  adult = adult.drop('education_num', 1)\n",
      "/var/folders/11/yrj1djtx66v8pmqdknyqpq0m0000gn/T/ipykernel_40595/3953395621.py:38: FutureWarning: In a future version of pandas all arguments of DataFrame.drop except for the argument 'labels' will be keyword-only.\n",
      "  adult = adult.drop('fnlwgt', 1)\n",
      "/var/folders/11/yrj1djtx66v8pmqdknyqpq0m0000gn/T/ipykernel_40595/3953395621.py:39: FutureWarning: The default value of regex will change from True to False in a future version.\n",
      "  adult['income'] = adult['income'].str.replace('<=50K.', '<=50K')\n",
      "/var/folders/11/yrj1djtx66v8pmqdknyqpq0m0000gn/T/ipykernel_40595/3953395621.py:40: FutureWarning: The default value of regex will change from True to False in a future version.\n",
      "  adult['income'] = adult['income'].str.replace('>50K.', '>50K')\n"
     ]
    },
    {
     "name": "stdout",
     "output_type": "stream",
     "text": [
      "Validation set saved!\n"
     ]
    }
   ],
   "source": [
    "\"\"\"\n",
    "Data cleaning for adult\n",
    "\"\"\"\n",
    "\n",
    "# import modules\n",
    "import pandas as pd\n",
    "import os\n",
    "import numpy as np\n",
    "\n",
    "# change directory\n",
    "os.chdir('Adult')\n",
    "\n",
    "# load data, use columns from adult.names file\n",
    "columns = [\"age\", \"type_employer\", \"fnlwgt\", \"education\", \"education_num\",\"marital\", \"occupation\", \"relationship\", \"race\",\"sex\",\"capital_gain\", \"capital_loss\", \"hr_per_week\",\"country\", \"income\"]\n",
    "adult = pd.read_csv(\"adult.data\", sep=\",\\s\",names=columns,na_values=[\"?\"], engine='python')\n",
    "print(f\"Length before cleaning: {len(adult)}\")\n",
    "\n",
    "# delete unnecessary columns\n",
    "adult = adult.drop('education_num', 1)\n",
    "adult = adult.drop('fnlwgt', 1)\n",
    "\n",
    "# drop NA values from data set\n",
    "adult = adult.dropna()\n",
    "print(f\"Length after cleaning: {len(adult)}\")\n",
    "\n",
    "adult.to_csv('Adult_train.csv', index=False)\n",
    "print(\"Training set saved!\\n\")\n",
    "\n",
    "#################### and now for the validation set ####################\n",
    "\n",
    "# load data, use columns from adult.names file\n",
    "columns = [\"age\", \"type_employer\", \"fnlwgt\", \"education\", \"education_num\",\"marital\", \"occupation\", \"relationship\", \"race\",\"sex\",\"capital_gain\", \"capital_loss\", \"hr_per_week\",\"country\", \"income\"]\n",
    "adult = pd.read_csv(\"adult.test\", sep=\",\\s\",names=columns,na_values=[\"?\"], engine='python')\n",
    "print(f\"Length before cleaning: {len(adult)}\")\n",
    "\n",
    "# delete unnecessary columns\n",
    "adult = adult.drop('education_num', 1)\n",
    "adult = adult.drop('fnlwgt', 1)\n",
    "adult['income'] = adult['income'].str.replace('<=50K.', '<=50K')\n",
    "adult['income'] = adult['income'].str.replace('>50K.', '>50K')\n",
    "\n",
    "# drop NA values from data set\n",
    "adult = adult.dropna()\n",
    "print(f\"Length after cleaning: {len(adult)}\")\n",
    "\n",
    "adult.to_csv('Adult_val.csv', index=False)\n",
    "print(\"Validation set saved!\")"
   ]
  },
  {
   "cell_type": "code",
   "execution_count": null,
   "metadata": {},
   "outputs": [],
   "source": []
  }
 ],
 "metadata": {
  "kernelspec": {
   "display_name": "Python 3 (ipykernel)",
   "language": "python",
   "name": "python3"
  },
  "language_info": {
   "codemirror_mode": {
    "name": "ipython",
    "version": 3
   },
   "file_extension": ".py",
   "mimetype": "text/x-python",
   "name": "python",
   "nbconvert_exporter": "python",
   "pygments_lexer": "ipython3",
   "version": "3.9.10"
  }
 },
 "nbformat": 4,
 "nbformat_minor": 4
}
