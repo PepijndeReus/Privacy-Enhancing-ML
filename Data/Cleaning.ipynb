{
 "cells": [
  {
   "cell_type": "code",
   "execution_count": 54,
   "metadata": {},
   "outputs": [
    {
     "name": "stdout",
     "output_type": "stream",
     "text": [
      "Length before cleaning: 32561\n",
      "Length after cleaning: 30162\n"
     ]
    }
   ],
   "source": [
    "\"\"\"\n",
    "Data cleaning for adult\n",
    "\"\"\"\n",
    "\n",
    "import pandas as pd\n",
    "import os\n",
    "import numpy as np\n",
    "\n",
    "os.chdir('/Users/pepijndereus/Desktop/Thesis/Data/Adult')\n",
    "\n",
    "columns = [\"age\", \"type_employer\", \"fnlwgt\", \"education\", \"education_num\",\"marital\", \"occupation\", \"relationship\", \"race\",\"sex\",\"capital_gain\", \"capital_loss\", \"hr_per_week\",\"country\", \"income\"]\n",
    "adult = pd.read_csv(\"adult.data\", sep=\",\\s\",names=columns,na_values=[\"?\"], engine='python')\n",
    "print(f\"Length before cleaning: {len(adult)}\")\n",
    "\n",
    "# delete unnecessary columns\n",
    "adult = adult.drop('education_num', 1)\n",
    "adult = adult.drop('fnlwgt', 1)\n",
    "adult.replace('?', np.nan, inplace=True)\n",
    "\n",
    "# check for NA values\n",
    "adult = adult.dropna()\n",
    "print(f\"Length after cleaning: {len(adult)}\")\n",
    "\n",
    "adult.to_csv('Adult_cleaned.csv')  "
   ]
  },
  {
   "cell_type": "code",
   "execution_count": null,
   "metadata": {},
   "outputs": [],
   "source": [
    "\"\"\"\n",
    "Data cleaning for student performance\n",
    "\"\"\"\n",
    "os.chdir('/Users/pepijndereus/Desktop/Thesis/Data/Student')\n",
    "\n",
    "adult = read.table(\"http://archive.ics.uci.edu/ml/machine-learning-databases/adult/adult.data\",\n",
    "        sep=\",\",header=F,col.names=c(\"age\", \"type_employer\", \"fnlwgt\", \"education\", \n",
    "                \"education_num\",\"marital\", \"occupation\", \"relationship\", \"race\",\"sex\",\n",
    "                \"capital_gain\", \"capital_loss\", \"hr_per_week\",\"country\", \"income\"),\n",
    "        fill=FALSE,strip.white=T)"
   ]
  }
 ],
 "metadata": {
  "kernelspec": {
   "display_name": "Python 3",
   "language": "python",
   "name": "python3"
  },
  "language_info": {
   "codemirror_mode": {
    "name": "ipython",
    "version": 3
   },
   "file_extension": ".py",
   "mimetype": "text/x-python",
   "name": "python",
   "nbconvert_exporter": "python",
   "pygments_lexer": "ipython3",
   "version": "3.8.3"
  }
 },
 "nbformat": 4,
 "nbformat_minor": 4
}
