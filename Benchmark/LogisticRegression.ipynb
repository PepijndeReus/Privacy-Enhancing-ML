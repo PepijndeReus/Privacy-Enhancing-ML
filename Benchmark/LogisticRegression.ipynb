{
 "cells": [
  {
   "cell_type": "markdown",
   "metadata": {},
   "source": [
    "## Import libraries"
   ]
  },
  {
   "cell_type": "code",
   "execution_count": 1,
   "metadata": {},
   "outputs": [],
   "source": [
    "import pandas as pd\n",
    "import numpy as np\n",
    "import os\n",
    "\n",
    "from sklearn.linear_model import LogisticRegression\n",
    "from sklearn.metrics import classification_report"
   ]
  },
  {
   "cell_type": "markdown",
   "metadata": {},
   "source": [
    "## Adult data"
   ]
  },
  {
   "cell_type": "code",
   "execution_count": 2,
   "metadata": {},
   "outputs": [
    {
     "name": "stdout",
     "output_type": "stream",
     "text": [
      "The accuracy for the adult data set is: 0.845883134130146\n"
     ]
    }
   ],
   "source": [
    "\"\"\"\n",
    "Now that the data is preprocessed for the neural network, we run the neural net.\n",
    "\"\"\"\n",
    "\n",
    "# change directory\n",
    "os.chdir('../Data/Adult')\n",
    "\n",
    "# load data\n",
    "adult_train_data = pd.read_csv('Adult_train_data.csv')\n",
    "adult_train_labels = pd.read_csv('Adult_train_labels.csv')\n",
    "adult_val_data = pd.read_csv('Adult_val_data.csv')\n",
    "adult_val_labels = pd.read_csv('Adult_val_labels.csv')\n",
    "\n",
    "# make Logistics Regression model\n",
    "LogReg = LogisticRegression(max_iter=1000)\n",
    "LogReg.fit(adult_train_data, adult_train_labels.values.ravel())\n",
    "\n",
    "# predict and print report\n",
    "predictions = LogReg.predict(adult_val_data)\n",
    "report = classification_report(adult_val_labels.values.ravel(), predictions, output_dict=True)\n",
    "print(f\"The accuracy for the adult data set is: {report['accuracy']}\")"
   ]
  },
  {
   "cell_type": "markdown",
   "metadata": {},
   "source": [
    "## Student data set"
   ]
  },
  {
   "cell_type": "code",
   "execution_count": 3,
   "metadata": {},
   "outputs": [
    {
     "name": "stdout",
     "output_type": "stream",
     "text": [
      "The accuracy for the student data set is: 0.7188940092165899\n"
     ]
    }
   ],
   "source": [
    "# change directory\n",
    "os.chdir('../Student')\n",
    "\n",
    "# load data\n",
    "student_train_data = pd.read_csv('student_train_data.csv')\n",
    "student_train_grade = pd.read_csv('student_train_grade.csv')\n",
    "student_val_data = pd.read_csv('student_val_data.csv')\n",
    "student_val_grade = pd.read_csv('student_val_grade.csv')\n",
    "\n",
    "# make Logistics Regression model\n",
    "LogReg = LogisticRegression(max_iter=1000)\n",
    "LogReg.fit(student_train_data, student_train_grade.values.ravel())\n",
    "\n",
    "# predict and print report\n",
    "predictions = LogReg.predict(student_val_data)\n",
    "report = classification_report(student_val_grade.values.ravel(), predictions, output_dict=True)\n",
    "print(f\"The accuracy for the student data set is: {report['accuracy']}\")"
   ]
  },
  {
   "cell_type": "code",
   "execution_count": null,
   "metadata": {},
   "outputs": [],
   "source": []
  }
 ],
 "metadata": {
  "kernelspec": {
   "display_name": "Python 3 (ipykernel)",
   "language": "python",
   "name": "python3"
  },
  "language_info": {
   "codemirror_mode": {
    "name": "ipython",
    "version": 3
   },
   "file_extension": ".py",
   "mimetype": "text/x-python",
   "name": "python",
   "nbconvert_exporter": "python",
   "pygments_lexer": "ipython3",
   "version": "3.9.10"
  }
 },
 "nbformat": 4,
 "nbformat_minor": 4
}
