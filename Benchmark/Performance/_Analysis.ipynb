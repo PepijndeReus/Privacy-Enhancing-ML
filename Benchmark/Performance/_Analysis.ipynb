{
 "cells": [
  {
   "cell_type": "markdown",
   "id": "e5a6dc9e",
   "metadata": {},
   "source": [
    "## Energy consumption of cleaning and preprocessing"
   ]
  },
  {
   "cell_type": "code",
   "execution_count": 1,
   "id": "0d06cbb6",
   "metadata": {},
   "outputs": [
    {
     "name": "stdout",
     "output_type": "stream",
     "text": [
      "Adult\n",
      "Average duration for preprocessing: 0.684 in seconds\n",
      "Average pkg for preprocessing: 19.411 in Joules\n",
      "Average dram for preprocessing: 2.561 in Joules\n",
      "\n",
      "Student\n",
      "Average duration for preprocessing: 0.03 in seconds\n",
      "Average pkg for preprocessing: 0.815 in Joules\n",
      "Average dram for preprocessing: 0.113 in Joules\n",
      "\n"
     ]
    }
   ],
   "source": [
    "import pandas as pd\n",
    "import numpy as np\n",
    "\n",
    "tools = ['preprocessing']\n",
    "datasets = ['Adult', 'Student']\n",
    "\n",
    "for tool in tools:\n",
    "    for data in datasets:\n",
    "        print(data)\n",
    "        df = pd.read_csv('../../Data/Energy/Measurement_'+str(tool)+'_'+str(data)+'.csv')\n",
    "        df = df.loc[df['label'] == data]\n",
    "        duration = df['duration'].mean()\n",
    "        pkg = df['pkg'].mean()\n",
    "        dram = df['dram'].mean()\n",
    "\n",
    "        # convert to seconds and Joules\n",
    "        duration *= (10**-6)\n",
    "        pkg *= (10**-6)\n",
    "        dram *= (10**-6)\n",
    "\n",
    "        print(f\"Average duration for {tool}: {round(duration, 3)} in seconds\")\n",
    "        print(f\"Average pkg for {tool}: {round(pkg, 3)} in Joules\")\n",
    "        print(f\"Average dram for {tool}: {round(dram, 3)} in Joules\\n\")"
   ]
  },
  {
   "cell_type": "markdown",
   "id": "f0ff5016",
   "metadata": {},
   "source": [
    "## Accuracy and energy consumption of baseline"
   ]
  },
  {
   "cell_type": "code",
   "execution_count": 2,
   "id": "6e0a3dd6",
   "metadata": {},
   "outputs": [
    {
     "name": "stdout",
     "output_type": "stream",
     "text": [
      "###### knn ###### \n",
      "\n",
      "Adult:\n",
      "Average duration for knn: 22.262 in seconds\n",
      "Average pkg for knn: 805.91 in Joules\n",
      "Average dram for knn: 117.471 in Joules\n",
      "Average accuracy for knn on Adult set: 0.82\n",
      "\n",
      "Student:\n",
      "Average duration for knn: 0.081 in seconds\n",
      "Average pkg for knn: 3.85 in Joules\n",
      "Average dram for knn: 0.29 in Joules\n",
      "Average accuracy for knn on Student set: 0.696\n",
      "\n",
      "###### logreg ###### \n",
      "\n",
      "Adult:\n",
      "Average duration for logreg: 1.414 in seconds\n",
      "Average pkg for logreg: 66.896 in Joules\n",
      "Average dram for logreg: 6.809 in Joules\n",
      "Average accuracy for logreg on Adult set: 0.846\n",
      "\n",
      "Student:\n",
      "Average duration for logreg: 0.057 in seconds\n",
      "Average pkg for logreg: 2.73 in Joules\n",
      "Average dram for logreg: 0.216 in Joules\n",
      "Average accuracy for logreg on Student set: 0.719\n",
      "\n",
      "###### nn ###### \n",
      "\n",
      "Adult:\n",
      "Average duration for nn: 9.85 in seconds\n",
      "Average pkg for nn: 133.768 in Joules\n",
      "Average dram for nn: 23.826 in Joules\n",
      "Average accuracy for nn on Adult set: 0.845\n",
      "\n",
      "Student:\n",
      "Average duration for nn: 3.404 in seconds\n",
      "Average pkg for nn: 53.071 in Joules\n",
      "Average dram for nn: 8.127 in Joules\n",
      "Average accuracy for nn on Student set: 0.706\n",
      "\n"
     ]
    }
   ],
   "source": [
    "models = ['knn','logreg','nn']\n",
    "datasets = ['Adult', 'Student']\n",
    "\n",
    "for model in models:\n",
    "    print(f\"###### {model} ###### \\n\")\n",
    "    for data in datasets:\n",
    "        df = pd.read_csv('Energy_'+str(model)+'.csv')\n",
    "        df_adult = df.loc[df['label'] == data]\n",
    "        df_student = df.loc[df['label'] == data]\n",
    "\n",
    "        # start with student\n",
    "        duration = df_student['duration'].mean()\n",
    "        pkg = df_student['pkg'].mean()\n",
    "        dram = df_student['dram'].mean()\n",
    "\n",
    "        # convert to seconds and Joules\n",
    "        duration *= (10**-6)\n",
    "        pkg *= (10**-6)\n",
    "        dram *= (10**-6)\n",
    "\n",
    "        print(f\"{data}:\")\n",
    "        print(f\"Average duration for {model}: {round(duration, 3)} in seconds\")\n",
    "        print(f\"Average pkg for {model}: {round(pkg, 3)} in Joules\")\n",
    "        print(f\"Average dram for {model}: {round(dram, 3)} in Joules\")\n",
    "        df = pd.read_csv('Accuracy_'+str(model)+'_'+str(data)+'.csv')\n",
    "        df = df.iloc[::2]\n",
    "        df['Accuracy'] = df['Accuracy'].astype(float)\n",
    "        average = round(df['Accuracy'].mean(),3)\n",
    "        print(f\"Average accuracy for {model} on {data} set: {average}\\n\")"
   ]
  },
  {
   "cell_type": "code",
   "execution_count": null,
   "id": "4c6f315e",
   "metadata": {},
   "outputs": [],
   "source": []
  }
 ],
 "metadata": {
  "kernelspec": {
   "display_name": "Python 3 (ipykernel)",
   "language": "python",
   "name": "python3"
  },
  "language_info": {
   "codemirror_mode": {
    "name": "ipython",
    "version": 3
   },
   "file_extension": ".py",
   "mimetype": "text/x-python",
   "name": "python",
   "nbconvert_exporter": "python",
   "pygments_lexer": "ipython3",
   "version": "3.9.10"
  }
 },
 "nbformat": 4,
 "nbformat_minor": 5
}
