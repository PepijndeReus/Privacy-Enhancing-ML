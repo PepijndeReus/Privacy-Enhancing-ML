{
 "cells": [
  {
   "cell_type": "markdown",
   "metadata": {},
   "source": [
    "## Import libraries"
   ]
  },
  {
   "cell_type": "code",
   "execution_count": 1,
   "metadata": {},
   "outputs": [],
   "source": [
    "import pandas as pd\n",
    "import numpy as np\n",
    "import os\n",
    "\n",
    "from sklearn.neighbors import KNeighborsClassifier\n",
    "from sklearn.metrics import classification_report"
   ]
  },
  {
   "cell_type": "markdown",
   "metadata": {},
   "source": [
    "## K-nearest neighbours for Adult data set"
   ]
  },
  {
   "cell_type": "code",
   "execution_count": 2,
   "metadata": {},
   "outputs": [],
   "source": [
    "# change directory\n",
    "os.chdir('../Data/Adult')\n",
    "\n",
    "# load data\n",
    "adult_train_data = pd.read_csv('Adult_train_data.csv')\n",
    "adult_train_labels = pd.read_csv('Adult_train_labels.csv')\n",
    "adult_val_data = pd.read_csv('Adult_val_data.csv')\n",
    "adult_val_labels = pd.read_csv('Adult_val_labels.csv')\n",
    "\n",
    "# list with k's\n",
    "list_k = [2,3,5,7,10]\n",
    "\n",
    "# create list for results\n",
    "results = []\n",
    "\n",
    "# make kNN for each k value in list\n",
    "for k in list_k:\n",
    "    # make and fit kNN model\n",
    "    NeighbourModel = KNeighborsClassifier(n_neighbors=k)\n",
    "    NeighbourModel.fit(adult_train_data, adult_train_labels.values.ravel())\n",
    "\n",
    "    # make report and add to dataframe\n",
    "    report = classification_report(adult_val_labels, NeighbourModel.predict(adult_val_data), output_dict=True)\n",
    "    results.append([k, report['accuracy']])\n",
    "\n",
    "# move to benchmark folder\n",
    "os.chdir('../../Benchmark')\n",
    "\n",
    "# save data to csv file\n",
    "df = pd.DataFrame(results)\n",
    "df.columns = ['k-value', 'Accuracy']\n",
    "df.to_csv('Results_knn_adult.csv', index=False)"
   ]
  },
  {
   "cell_type": "markdown",
   "metadata": {},
   "source": [
    "## K-nearest neighbours for Student Performance data set"
   ]
  },
  {
   "cell_type": "code",
   "execution_count": 3,
   "metadata": {},
   "outputs": [],
   "source": [
    "# change directory\n",
    "os.chdir('../Data/Student')\n",
    "\n",
    "# load data\n",
    "student_train_data = pd.read_csv('student_train_data.csv')\n",
    "student_train_grade = pd.read_csv('student_train_grade.csv')\n",
    "student_val_data = pd.read_csv('student_val_data.csv')\n",
    "student_val_grade = pd.read_csv('student_val_grade.csv')\n",
    "\n",
    "# list with k's\n",
    "list_k = [2,3,5,7,10]\n",
    "results = []\n",
    "\n",
    "# make kNN for each k value in list\n",
    "for k in list_k:\n",
    "    # make and fit kNN model for k = 5\n",
    "    NeighbourModel = KNeighborsClassifier(n_neighbors=k)\n",
    "    NeighbourModel.fit(student_train_data, student_train_grade.values.ravel())\n",
    "\n",
    "    # make report and add to dataframe\n",
    "    report = classification_report(student_val_grade, NeighbourModel.predict(student_val_data), output_dict=True)\n",
    "    results.append([k, report['accuracy']])\n",
    "\n",
    "# move to benchmark folder\n",
    "os.chdir('../../Benchmark')\n",
    "\n",
    "# save data to csv file\n",
    "df = pd.DataFrame(results)\n",
    "df.columns = ['k-value', 'Accuracy']\n",
    "df.to_csv('Results_knn_student.csv', index=False)"
   ]
  },
  {
   "cell_type": "code",
   "execution_count": null,
   "metadata": {},
   "outputs": [],
   "source": []
  }
 ],
 "metadata": {
  "kernelspec": {
   "display_name": "Python 3 (ipykernel)",
   "language": "python",
   "name": "python3"
  },
  "language_info": {
   "codemirror_mode": {
    "name": "ipython",
    "version": 3
   },
   "file_extension": ".py",
   "mimetype": "text/x-python",
   "name": "python",
   "nbconvert_exporter": "python",
   "pygments_lexer": "ipython3",
   "version": "3.9.10"
  }
 },
 "nbformat": 4,
 "nbformat_minor": 4
}
