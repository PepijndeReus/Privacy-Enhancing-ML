{
 "cells": [
  {
   "cell_type": "markdown",
   "metadata": {},
   "source": [
    "## Import libraries"
   ]
  },
  {
   "cell_type": "code",
   "execution_count": 1,
   "metadata": {},
   "outputs": [],
   "source": [
    "import pandas as pd\n",
    "import numpy as np\n",
    "import os\n",
    "\n",
    "from sklearn.neighbors import KNeighborsClassifier\n",
    "from sklearn.metrics import classification_report"
   ]
  },
  {
   "cell_type": "markdown",
   "metadata": {},
   "source": [
    "## K-nearest neighbours for Adult data set"
   ]
  },
  {
   "cell_type": "code",
   "execution_count": 2,
   "metadata": {},
   "outputs": [
    {
     "name": "stdout",
     "output_type": "stream",
     "text": [
      "For k = 2, accuracy = 0.80265604249668\n",
      "For k = 3, accuracy = 0.8112217795484727\n",
      "For k = 5, accuracy = 0.8200531208499336\n",
      "For k = 7, accuracy = 0.8227091633466136\n",
      "For k = 10, accuracy = 0.8277556440903054\n"
     ]
    }
   ],
   "source": [
    "# change directory\n",
    "os.chdir('../Data/Adult')\n",
    "\n",
    "# load data\n",
    "adult_train_data = pd.read_csv('Adult_train_data.csv')\n",
    "adult_train_labels = pd.read_csv('Adult_train_labels.csv')\n",
    "adult_val_data = pd.read_csv('Adult_val_data.csv')\n",
    "adult_val_labels = pd.read_csv('Adult_val_labels.csv')\n",
    "\n",
    "# list with k's\n",
    "list_k = [2,3,5,7,10]\n",
    "\n",
    "# make kNN for each k value in list\n",
    "for k in list_k:\n",
    "    # make and fit kNN model\n",
    "    NeighbourModel = KNeighborsClassifier(n_neighbors=k)\n",
    "    NeighbourModel.fit(adult_train_data, adult_train_labels.values.ravel())\n",
    "\n",
    "    # make and print report\n",
    "    report = classification_report(adult_val_labels, NeighbourModel.predict(adult_val_data), output_dict=True)\n",
    "    print(f\"For k = {k}, accuracy =\", end=\" \")\n",
    "    print(report['accuracy'])"
   ]
  },
  {
   "cell_type": "markdown",
   "metadata": {},
   "source": [
    "## K-nearest neighbours for Student Performance data set"
   ]
  },
  {
   "cell_type": "code",
   "execution_count": 3,
   "metadata": {},
   "outputs": [
    {
     "name": "stdout",
     "output_type": "stream",
     "text": [
      "For k = 2, accuracy = 0.6912442396313364\n",
      "For k = 3, accuracy = 0.7050691244239631\n",
      "For k = 5, accuracy = 0.7004608294930875\n",
      "For k = 7, accuracy = 0.7050691244239631\n",
      "For k = 10, accuracy = 0.695852534562212\n"
     ]
    }
   ],
   "source": [
    "# change directory\n",
    "os.chdir('../Student')\n",
    "\n",
    "# load data\n",
    "student_train_data = pd.read_csv('student_train_data.csv')\n",
    "student_train_grade = pd.read_csv('student_train_grade.csv')\n",
    "student_val_data = pd.read_csv('student_val_data.csv')\n",
    "student_val_grade = pd.read_csv('student_val_grade.csv')\n",
    "\n",
    "# list with k's\n",
    "list_k = [2,3,5,7,10]\n",
    "\n",
    "# make kNN for each k value in list\n",
    "for k in list_k:\n",
    "    # make and fit kNN model for k = 5\n",
    "    NeighbourModel = KNeighborsClassifier(n_neighbors=k)\n",
    "    NeighbourModel.fit(student_train_data, student_train_grade.values.ravel())\n",
    "\n",
    "    # make and print report\n",
    "    report = classification_report(student_val_grade, NeighbourModel.predict(student_val_data), output_dict=True, zero_division=0)\n",
    "    print(f\"For k = {k}, accuracy =\", end=\" \")\n",
    "    print(report['accuracy'])"
   ]
  },
  {
   "cell_type": "code",
   "execution_count": null,
   "metadata": {},
   "outputs": [],
   "source": []
  }
 ],
 "metadata": {
  "kernelspec": {
   "display_name": "Python 3 (ipykernel)",
   "language": "python",
   "name": "python3"
  },
  "language_info": {
   "codemirror_mode": {
    "name": "ipython",
    "version": 3
   },
   "file_extension": ".py",
   "mimetype": "text/x-python",
   "name": "python",
   "nbconvert_exporter": "python",
   "pygments_lexer": "ipython3",
   "version": "3.9.10"
  }
 },
 "nbformat": 4,
 "nbformat_minor": 4
}
