{
 "cells": [
  {
   "cell_type": "code",
   "execution_count": 1,
   "metadata": {},
   "outputs": [],
   "source": [
    "# Preparing pyRAPL for energy measurement\n",
    "# import pyRAPL\n",
    "\n",
    "# pyRAPL.setup()\n",
    "\n",
    "# \"\"\"\n",
    "# *** for Ana ***\n",
    "# As I've found online, https://itectec.com/askdifferent/facing-problem-to-test-energy-consumption-by-a-factorial-function-with-python-module-pyrapl/,\n",
    "# it seems like pyRAPL cannot find the CPU on my Mac.\n",
    "# I've looked all around the internet to find these files, without succes.\n",
    "# Also, the pyRAPL documentation does not mention MacOS...\n",
    "\n",
    "# You can find the error in the output below\n",
    "# \"\"\"\n",
    "\n",
    "# Options:\n",
    "# # meter = pyRAPL.Measurement('bar')\n",
    "# # meter.begin()\n",
    "\n",
    "# firefox installeren met pyRAPL\n",
    "# sudo powermetrics --> for MacOS\n",
    "# pyJoules?\n",
    "\n",
    "# sudo /usr/bin/power_report.sh power.txt --> "
   ]
  },
  {
   "cell_type": "markdown",
   "metadata": {},
   "source": [
    "## Import libraries"
   ]
  },
  {
   "cell_type": "code",
   "execution_count": 2,
   "metadata": {},
   "outputs": [],
   "source": [
    "\"\"\"\n",
    "Notebook that runs a neutral network on the adult and student performance dataset without annoymisation.\n",
    "Supposed to be a benchmark for the anonimised data sets.\n",
    "\"\"\"\n",
    "# import libraries\n",
    "import pandas as pd\n",
    "import numpy as np\n",
    "import keras\n",
    "import os\n",
    "\n",
    "# import modules\n",
    "from sklearn.preprocessing import MinMaxScaler, StandardScaler\n",
    "from keras.models import Sequential\n",
    "from keras.layers import Dense\n",
    "\n",
    "# disable copy warnings\n",
    "pd.set_option('mode.chained_assignment', None)"
   ]
  },
  {
   "cell_type": "markdown",
   "metadata": {},
   "source": [
    "# Adult data set"
   ]
  },
  {
   "cell_type": "markdown",
   "metadata": {},
   "source": [
    "### Run the neural network"
   ]
  },
  {
   "cell_type": "code",
   "execution_count": 3,
   "metadata": {},
   "outputs": [
    {
     "name": "stderr",
     "output_type": "stream",
     "text": [
      "2022-05-04 15:23:31.861821: I tensorflow/core/platform/cpu_feature_guard.cc:151] This TensorFlow binary is optimized with oneAPI Deep Neural Network Library (oneDNN) to use the following CPU instructions in performance-critical operations:  AVX2 FMA\n",
      "To enable them in other operations, rebuild TensorFlow with the appropriate compiler flags.\n"
     ]
    },
    {
     "name": "stdout",
     "output_type": "stream",
     "text": [
      "Training the neural network..\n",
      "\n",
      "\n",
      "Prediction accuracy:\n",
      "\n",
      "471/471 [==============================] - 0s 796us/step - loss: 0.3257 - accuracy: 0.8477\n",
      "\n",
      "The loss is 0.32567450404167175, and the accuracy is 0.8477423787117004\n"
     ]
    }
   ],
   "source": [
    "\"\"\"\n",
    "Now that the data is preprocessed for the neural network, we run the neural net.\n",
    "\"\"\"\n",
    "\n",
    "# change directory\n",
    "os.chdir('../Data/Adult')\n",
    "\n",
    "# load data\n",
    "adult_train_data = pd.read_csv('Adult_train_data.csv')\n",
    "adult_train_labels = pd.read_csv('Adult_train_labels.csv')\n",
    "adult_val_data = pd.read_csv('Adult_val_data.csv')\n",
    "adult_val_labels = pd.read_csv('Adult_val_labels.csv')\n",
    "\n",
    "# create neural network with keras sequential model\n",
    "NeuralNet = Sequential()\n",
    "\n",
    "# add 3 layers, one input, one output and one hidden layer\n",
    "NeuralNet.add(Dense(8, activation = 'relu'))\n",
    "NeuralNet.add(Dense(16, activation = 'relu'))\n",
    "NeuralNet.add(Dense(1, activation = 'sigmoid'))\n",
    "NeuralNet.compile(optimizer = 'adam', loss = 'binary_crossentropy', metrics = ['accuracy'])\n",
    "\n",
    "# train the network with training set and training labels\n",
    "print(\"Training the neural network..\\n\")                   \n",
    "NeuralNet.fit(adult_train_data, adult_train_labels, batch_size = 150, epochs = 20, verbose=0)\n",
    "\n",
    "# validate the network with the validation set and labels\n",
    "print(\"\\nPrediction accuracy:\\n\")\n",
    "predication = NeuralNet.predict(adult_val_data)\n",
    "\n",
    "# print the accuracy\n",
    "loss, accuracy = NeuralNet.evaluate(adult_val_data, adult_val_labels)\n",
    "print(f\"\\nThe loss is {loss}, and the accuracy is {accuracy}\")\n",
    "\n",
    "# move to benchmark folder\n",
    "os.chdir('../../Benchmark')\n",
    "\n",
    "# save results to csv\n",
    "df = pd.DataFrame([[loss, accuracy]])\n",
    "df.columns = ['Loss', 'Accuracy']\n",
    "df.to_csv('Results_NN_adult.csv', index=False)"
   ]
  },
  {
   "cell_type": "markdown",
   "metadata": {},
   "source": [
    "### References\n",
    "The code above was created with help of the following sources:\n",
    "\n",
    "* https://www.kaggle.com/code/ritvikkhanna09/simple-neural-networks-using-keras/notebook#Training-the-Neural-Network , accessed at 13-04-2022\n",
    "\n",
    "* https://github.com/DeepakGunturu/Adult-Dataset-Classification/blob/main/classifiers.py , accessed at 11-04-2022"
   ]
  },
  {
   "cell_type": "markdown",
   "metadata": {},
   "source": [
    "# Student performance data set (in progress, accuracy to be improved)"
   ]
  },
  {
   "cell_type": "markdown",
   "metadata": {},
   "source": [
    "### Run the neural network on the student data set"
   ]
  },
  {
   "cell_type": "code",
   "execution_count": 4,
   "metadata": {},
   "outputs": [
    {
     "name": "stdout",
     "output_type": "stream",
     "text": [
      "Training the neural network..\n",
      "\n",
      "\n",
      "Prediction accuracy:\n",
      "\n",
      "7/7 [==============================] - 0s 6ms/step - loss: 0.9555 - accuracy: 0.7189\n",
      "\n",
      "The loss is 0.9555424451828003, and the accuracy is 0.7188940048217773\n"
     ]
    }
   ],
   "source": [
    "# change directory\n",
    "os.chdir('../Data/Student')\n",
    "\n",
    "# load data\n",
    "student_train_data = pd.read_csv('student_train_data.csv')\n",
    "student_train_grade = pd.read_csv('student_train_grade.csv')\n",
    "student_val_data = pd.read_csv('student_val_data.csv')\n",
    "student_val_grade = pd.read_csv('student_val_grade.csv')\n",
    "\n",
    "# create neural network with keras sequential model\n",
    "NeuralNet = Sequential()\n",
    "\n",
    "# add 3 layers, one input, one output and one hidden layer\n",
    "NeuralNet.add(Dense(8, activation = 'relu'))\n",
    "NeuralNet.add(Dense(16, activation = 'relu'))\n",
    "NeuralNet.add(Dense(1, activation = 'sigmoid'))\n",
    "NeuralNet.compile(optimizer = 'adam', loss = 'binary_crossentropy', metrics = ['accuracy'])\n",
    "# use activation: https://stackoverflow.com/questions/71615317/lstm-loss-is-0\n",
    "\n",
    "# train the network with training set and training labels\n",
    "print(\"Training the neural network..\\n\")\n",
    "NeuralNet.fit(student_train_data, student_train_grade, batch_size = 5, epochs = 20, verbose=0)\n",
    "\n",
    "# validate the network with the validation set and labels\n",
    "print(\"\\nPrediction accuracy:\\n\")\n",
    "predication = NeuralNet.predict(student_val_data)\n",
    "\n",
    "# print the accuracy\n",
    "loss, accuracy = NeuralNet.evaluate(student_val_data, student_val_grade)\n",
    "print(f\"\\nThe loss is {loss}, and the accuracy is {accuracy}\")\n",
    "\n",
    "# move to benchmark folder\n",
    "os.chdir('../../Benchmark')\n",
    "\n",
    "# save results to csv\n",
    "df = pd.DataFrame([[loss, accuracy]])\n",
    "df.columns = ['Loss', 'Accuracy']\n",
    "df.to_csv('Results_NN_student.csv', index=False)"
   ]
  },
  {
   "cell_type": "code",
   "execution_count": 5,
   "metadata": {},
   "outputs": [],
   "source": [
    "# pyRAPL under construction\n",
    "# meter.end()\n",
    "# print(meter.result())"
   ]
  },
  {
   "cell_type": "code",
   "execution_count": null,
   "metadata": {},
   "outputs": [],
   "source": []
  }
 ],
 "metadata": {
  "kernelspec": {
   "display_name": "Python 3 (ipykernel)",
   "language": "python",
   "name": "python3"
  },
  "language_info": {
   "codemirror_mode": {
    "name": "ipython",
    "version": 3
   },
   "file_extension": ".py",
   "mimetype": "text/x-python",
   "name": "python",
   "nbconvert_exporter": "python",
   "pygments_lexer": "ipython3",
   "version": "3.9.10"
  }
 },
 "nbformat": 4,
 "nbformat_minor": 4
}
