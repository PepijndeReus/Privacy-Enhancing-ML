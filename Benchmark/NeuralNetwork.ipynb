{
 "cells": [
  {
   "cell_type": "code",
   "execution_count": 6,
   "metadata": {},
   "outputs": [
    {
     "ename": "FileNotFoundError",
     "evalue": "[Errno 2] No such file or directory: '/sys/devices/system/cpu/present'",
     "output_type": "error",
     "traceback": [
      "\u001b[0;31m---------------------------------------------------------------------------\u001b[0m",
      "\u001b[0;31mFileNotFoundError\u001b[0m                         Traceback (most recent call last)",
      "Input \u001b[0;32mIn [6]\u001b[0m, in \u001b[0;36m<cell line: 4>\u001b[0;34m()\u001b[0m\n\u001b[1;32m      1\u001b[0m \u001b[38;5;66;03m# Preparing pyRAPL for energy measurement\u001b[39;00m\n\u001b[1;32m      2\u001b[0m \u001b[38;5;28;01mimport\u001b[39;00m \u001b[38;5;21;01mpyRAPL\u001b[39;00m\n\u001b[0;32m----> 4\u001b[0m \u001b[43mpyRAPL\u001b[49m\u001b[38;5;241;43m.\u001b[39;49m\u001b[43msetup\u001b[49m\u001b[43m(\u001b[49m\u001b[43m)\u001b[49m\n\u001b[1;32m      6\u001b[0m \u001b[38;5;124;03m\"\"\"\u001b[39;00m\n\u001b[1;32m      7\u001b[0m \u001b[38;5;124;03m*** for Ana ***\u001b[39;00m\n\u001b[1;32m      8\u001b[0m \u001b[38;5;124;03mAs I've found online, https://itectec.com/askdifferent/facing-problem-to-test-energy-consumption-by-a-factorial-function-with-python-module-pyrapl/,\u001b[39;00m\n\u001b[0;32m   (...)\u001b[0m\n\u001b[1;32m     13\u001b[0m \u001b[38;5;124;03mYou can find the error in the output below\u001b[39;00m\n\u001b[1;32m     14\u001b[0m \u001b[38;5;124;03m\"\"\"\u001b[39;00m\n",
      "File \u001b[0;32m/Library/Frameworks/Python.framework/Versions/3.9/lib/python3.9/site-packages/pyRAPL/pyRAPL.py:39\u001b[0m, in \u001b[0;36msetup\u001b[0;34m(devices, socket_ids)\u001b[0m\n\u001b[1;32m     25\u001b[0m \u001b[38;5;28;01mdef\u001b[39;00m \u001b[38;5;21msetup\u001b[39m(devices: Optional[List[Device]] \u001b[38;5;241m=\u001b[39m \u001b[38;5;28;01mNone\u001b[39;00m, socket_ids: Optional[List[\u001b[38;5;28mint\u001b[39m]] \u001b[38;5;241m=\u001b[39m \u001b[38;5;28;01mNone\u001b[39;00m):\n\u001b[1;32m     26\u001b[0m     \u001b[38;5;124;03m\"\"\"\u001b[39;00m\n\u001b[1;32m     27\u001b[0m \u001b[38;5;124;03m    Configure which device and CPU socket should be monitored by pyRAPL\u001b[39;00m\n\u001b[1;32m     28\u001b[0m \n\u001b[0;32m   (...)\u001b[0m\n\u001b[1;32m     37\u001b[0m \u001b[38;5;124;03m    :raise PyRAPLBadSocketIdException: if the given socket in parameter doesn't exist\u001b[39;00m\n\u001b[1;32m     38\u001b[0m \u001b[38;5;124;03m    \"\"\"\u001b[39;00m\n\u001b[0;32m---> 39\u001b[0m     pyRAPL\u001b[38;5;241m.\u001b[39m_sensor \u001b[38;5;241m=\u001b[39m \u001b[43mSensor\u001b[49m\u001b[43m(\u001b[49m\u001b[43mdevices\u001b[49m\u001b[38;5;241;43m=\u001b[39;49m\u001b[43mdevices\u001b[49m\u001b[43m,\u001b[49m\u001b[43m \u001b[49m\u001b[43msocket_ids\u001b[49m\u001b[38;5;241;43m=\u001b[39;49m\u001b[43msocket_ids\u001b[49m\u001b[43m)\u001b[49m\n",
      "File \u001b[0;32m/Library/Frameworks/Python.framework/Versions/3.9/lib/python3.9/site-packages/pyRAPL/sensor.py:59\u001b[0m, in \u001b[0;36mSensor.__init__\u001b[0;34m(self, devices, socket_ids)\u001b[0m\n\u001b[1;32m     57\u001b[0m \u001b[38;5;28;01mfor\u001b[39;00m device \u001b[38;5;129;01min\u001b[39;00m tmp_device:\n\u001b[1;32m     58\u001b[0m     \u001b[38;5;28;01mtry\u001b[39;00m:\n\u001b[0;32m---> 59\u001b[0m         \u001b[38;5;28mself\u001b[39m\u001b[38;5;241m.\u001b[39m_device_api[device] \u001b[38;5;241m=\u001b[39m \u001b[43mDeviceAPIFactory\u001b[49m\u001b[38;5;241;43m.\u001b[39;49m\u001b[43mcreate_device_api\u001b[49m\u001b[43m(\u001b[49m\u001b[43mdevice\u001b[49m\u001b[43m,\u001b[49m\u001b[43m \u001b[49m\u001b[43msocket_ids\u001b[49m\u001b[43m)\u001b[49m\n\u001b[1;32m     60\u001b[0m         \u001b[38;5;28mself\u001b[39m\u001b[38;5;241m.\u001b[39m_available_devices\u001b[38;5;241m.\u001b[39mappend(device)\n\u001b[1;32m     61\u001b[0m     \u001b[38;5;28;01mexcept\u001b[39;00m PyRAPLCantInitDeviceAPI:\n",
      "File \u001b[0;32m/Library/Frameworks/Python.framework/Versions/3.9/lib/python3.9/site-packages/pyRAPL/device_api.py:186\u001b[0m, in \u001b[0;36mDeviceAPIFactory.create_device_api\u001b[0;34m(device, socket_ids)\u001b[0m\n\u001b[1;32m    180\u001b[0m \u001b[38;5;124;03m\"\"\"\u001b[39;00m\n\u001b[1;32m    181\u001b[0m \u001b[38;5;124;03m:param device: the device corresponding to the DeviceAPI to be created\u001b[39;00m\n\u001b[1;32m    182\u001b[0m \u001b[38;5;124;03m:param socket_ids: param that will be passed to the constructor of the DeviceAPI instance\u001b[39;00m\n\u001b[1;32m    183\u001b[0m \u001b[38;5;124;03m:return: a DeviceAPI instance\u001b[39;00m\n\u001b[1;32m    184\u001b[0m \u001b[38;5;124;03m\"\"\"\u001b[39;00m\n\u001b[1;32m    185\u001b[0m \u001b[38;5;28;01mif\u001b[39;00m device \u001b[38;5;241m==\u001b[39m Device\u001b[38;5;241m.\u001b[39mPKG:\n\u001b[0;32m--> 186\u001b[0m     \u001b[38;5;28;01mreturn\u001b[39;00m \u001b[43mPkgAPI\u001b[49m\u001b[43m(\u001b[49m\u001b[43msocket_ids\u001b[49m\u001b[43m)\u001b[49m\n\u001b[1;32m    187\u001b[0m \u001b[38;5;28;01mif\u001b[39;00m device \u001b[38;5;241m==\u001b[39m Device\u001b[38;5;241m.\u001b[39mDRAM:\n\u001b[1;32m    188\u001b[0m     \u001b[38;5;28;01mreturn\u001b[39;00m DramAPI(socket_ids)\n",
      "File \u001b[0;32m/Library/Frameworks/Python.framework/Versions/3.9/lib/python3.9/site-packages/pyRAPL/device_api.py:137\u001b[0m, in \u001b[0;36mPkgAPI.__init__\u001b[0;34m(self, socket_ids)\u001b[0m\n\u001b[1;32m    136\u001b[0m \u001b[38;5;28;01mdef\u001b[39;00m \u001b[38;5;21m__init__\u001b[39m(\u001b[38;5;28mself\u001b[39m, socket_ids: Optional[\u001b[38;5;28mint\u001b[39m] \u001b[38;5;241m=\u001b[39m \u001b[38;5;28;01mNone\u001b[39;00m):\n\u001b[0;32m--> 137\u001b[0m     \u001b[43mDeviceAPI\u001b[49m\u001b[38;5;241;43m.\u001b[39;49m\u001b[38;5;21;43m__init__\u001b[39;49m\u001b[43m(\u001b[49m\u001b[38;5;28;43mself\u001b[39;49m\u001b[43m,\u001b[49m\u001b[43m \u001b[49m\u001b[43msocket_ids\u001b[49m\u001b[43m)\u001b[49m\n",
      "File \u001b[0;32m/Library/Frameworks/Python.framework/Versions/3.9/lib/python3.9/site-packages/pyRAPL/device_api.py:68\u001b[0m, in \u001b[0;36mDeviceAPI.__init__\u001b[0;34m(self, socket_ids)\u001b[0m\n\u001b[1;32m     60\u001b[0m \u001b[38;5;28;01mdef\u001b[39;00m \u001b[38;5;21m__init__\u001b[39m(\u001b[38;5;28mself\u001b[39m, socket_ids: Optional[List[\u001b[38;5;28mint\u001b[39m]] \u001b[38;5;241m=\u001b[39m \u001b[38;5;28;01mNone\u001b[39;00m):\n\u001b[1;32m     61\u001b[0m     \u001b[38;5;124;03m\"\"\"\u001b[39;00m\n\u001b[1;32m     62\u001b[0m \u001b[38;5;124;03m    :param int socket_ids: if None, the API will get the energy consumption of the whole machine otherwise, it will\u001b[39;00m\n\u001b[1;32m     63\u001b[0m \u001b[38;5;124;03m                           get the energy consumption of the device on the given socket package\u001b[39;00m\n\u001b[0;32m   (...)\u001b[0m\n\u001b[1;32m     66\u001b[0m \u001b[38;5;124;03m    :raise PyRAPLBadSocketIdException: the machine where is initialised the DeviceAPI has no the requested socket\u001b[39;00m\n\u001b[1;32m     67\u001b[0m \u001b[38;5;124;03m    \"\"\"\u001b[39;00m\n\u001b[0;32m---> 68\u001b[0m     all_socket_id \u001b[38;5;241m=\u001b[39m \u001b[43mget_socket_ids\u001b[49m\u001b[43m(\u001b[49m\u001b[43m)\u001b[49m\n\u001b[1;32m     69\u001b[0m     \u001b[38;5;28;01mif\u001b[39;00m socket_ids \u001b[38;5;129;01mis\u001b[39;00m \u001b[38;5;28;01mNone\u001b[39;00m:\n\u001b[1;32m     70\u001b[0m         \u001b[38;5;28mself\u001b[39m\u001b[38;5;241m.\u001b[39m_socket_ids \u001b[38;5;241m=\u001b[39m all_socket_id\n",
      "File \u001b[0;32m/Library/Frameworks/Python.framework/Versions/3.9/lib/python3.9/site-packages/pyRAPL/device_api.py:49\u001b[0m, in \u001b[0;36mget_socket_ids\u001b[0;34m()\u001b[0m\n\u001b[1;32m     45\u001b[0m \u001b[38;5;124;03m\"\"\"\u001b[39;00m\n\u001b[1;32m     46\u001b[0m \u001b[38;5;124;03mreturn cpu socket id present on the machine\u001b[39;00m\n\u001b[1;32m     47\u001b[0m \u001b[38;5;124;03m\"\"\"\u001b[39;00m\n\u001b[1;32m     48\u001b[0m socket_id_list \u001b[38;5;241m=\u001b[39m []\n\u001b[0;32m---> 49\u001b[0m \u001b[38;5;28;01mfor\u001b[39;00m cpu_id \u001b[38;5;129;01min\u001b[39;00m \u001b[43mcpu_ids\u001b[49m\u001b[43m(\u001b[49m\u001b[43m)\u001b[49m:\n\u001b[1;32m     50\u001b[0m     api_file \u001b[38;5;241m=\u001b[39m \u001b[38;5;28mopen\u001b[39m(\u001b[38;5;124m'\u001b[39m\u001b[38;5;124m/sys/devices/system/cpu/cpu\u001b[39m\u001b[38;5;124m'\u001b[39m \u001b[38;5;241m+\u001b[39m \u001b[38;5;28mstr\u001b[39m(cpu_id) \u001b[38;5;241m+\u001b[39m \u001b[38;5;124m'\u001b[39m\u001b[38;5;124m/topology/physical_package_id\u001b[39m\u001b[38;5;124m'\u001b[39m)\n\u001b[1;32m     51\u001b[0m     socket_id_list\u001b[38;5;241m.\u001b[39mappend(\u001b[38;5;28mint\u001b[39m(api_file\u001b[38;5;241m.\u001b[39mreadline()\u001b[38;5;241m.\u001b[39mstrip()))\n",
      "File \u001b[0;32m/Library/Frameworks/Python.framework/Versions/3.9/lib/python3.9/site-packages/pyRAPL/device_api.py:31\u001b[0m, in \u001b[0;36mcpu_ids\u001b[0;34m()\u001b[0m\n\u001b[1;32m     27\u001b[0m \u001b[38;5;28;01mdef\u001b[39;00m \u001b[38;5;21mcpu_ids\u001b[39m() \u001b[38;5;241m-\u001b[39m\u001b[38;5;241m>\u001b[39m List[\u001b[38;5;28mint\u001b[39m]:\n\u001b[1;32m     28\u001b[0m     \u001b[38;5;124;03m\"\"\"\u001b[39;00m\n\u001b[1;32m     29\u001b[0m \u001b[38;5;124;03m    return the cpu id of this machine\u001b[39;00m\n\u001b[1;32m     30\u001b[0m \u001b[38;5;124;03m    \"\"\"\u001b[39;00m\n\u001b[0;32m---> 31\u001b[0m     api_file \u001b[38;5;241m=\u001b[39m \u001b[38;5;28;43mopen\u001b[39;49m\u001b[43m(\u001b[49m\u001b[38;5;124;43m'\u001b[39;49m\u001b[38;5;124;43m/sys/devices/system/cpu/present\u001b[39;49m\u001b[38;5;124;43m'\u001b[39;49m\u001b[43m,\u001b[49m\u001b[43m \u001b[49m\u001b[38;5;124;43m'\u001b[39;49m\u001b[38;5;124;43mr\u001b[39;49m\u001b[38;5;124;43m'\u001b[39;49m\u001b[43m)\u001b[49m\n\u001b[1;32m     33\u001b[0m     cpu_id_tmp \u001b[38;5;241m=\u001b[39m re\u001b[38;5;241m.\u001b[39mfindall(\u001b[38;5;124m'\u001b[39m\u001b[38;5;124m\\\u001b[39m\u001b[38;5;124md+|-\u001b[39m\u001b[38;5;124m'\u001b[39m, api_file\u001b[38;5;241m.\u001b[39mreadline()\u001b[38;5;241m.\u001b[39mstrip())\n\u001b[1;32m     34\u001b[0m     cpu_id_list \u001b[38;5;241m=\u001b[39m []\n",
      "\u001b[0;31mFileNotFoundError\u001b[0m: [Errno 2] No such file or directory: '/sys/devices/system/cpu/present'"
     ]
    }
   ],
   "source": [
    "# Preparing pyRAPL for energy measurement\n",
    "import pyRAPL\n",
    "\n",
    "pyRAPL.setup()\n",
    "\n",
    "\"\"\"\n",
    "*** for Ana ***\n",
    "As I've found online, https://itectec.com/askdifferent/facing-problem-to-test-energy-consumption-by-a-factorial-function-with-python-module-pyrapl/,\n",
    "it seems like pyRAPL cannot find the CPU on my Mac.\n",
    "I've looked all around the internet to find these files, without succes.\n",
    "Also, the pyRAPL documentation does not mention MacOS...\n",
    "\n",
    "You can find the error in the output below\n",
    "\"\"\"\n",
    "\n",
    "# meter = pyRAPL.Measurement('bar')\n",
    "# meter.begin()"
   ]
  },
  {
   "cell_type": "markdown",
   "metadata": {},
   "source": [
    "## Import libraries"
   ]
  },
  {
   "cell_type": "code",
   "execution_count": 2,
   "metadata": {},
   "outputs": [],
   "source": [
    "\"\"\"\n",
    "Notebook that runs a neutral network on the adult and student performance dataset without annoymisation.\n",
    "Supposed to be a benchmark for the anonimised data sets.\n",
    "\"\"\"\n",
    "# import libraries\n",
    "import pandas as pd\n",
    "import numpy as np\n",
    "import keras\n",
    "import os\n",
    "\n",
    "# import modules\n",
    "from sklearn.preprocessing import MinMaxScaler, StandardScaler\n",
    "from keras.models import Sequential\n",
    "from keras.layers import Dense\n",
    "\n",
    "# disable copy warnings\n",
    "pd.set_option('mode.chained_assignment', None)"
   ]
  },
  {
   "cell_type": "markdown",
   "metadata": {},
   "source": [
    "# Adult data set"
   ]
  },
  {
   "cell_type": "markdown",
   "metadata": {},
   "source": [
    "### Run the neural network"
   ]
  },
  {
   "cell_type": "code",
   "execution_count": 3,
   "metadata": {},
   "outputs": [
    {
     "name": "stderr",
     "output_type": "stream",
     "text": [
      "2022-04-23 14:36:53.168936: I tensorflow/core/platform/cpu_feature_guard.cc:151] This TensorFlow binary is optimized with oneAPI Deep Neural Network Library (oneDNN) to use the following CPU instructions in performance-critical operations:  AVX2 FMA\n",
      "To enable them in other operations, rebuild TensorFlow with the appropriate compiler flags.\n"
     ]
    },
    {
     "name": "stdout",
     "output_type": "stream",
     "text": [
      "Training the neural network..\n",
      "\n",
      "\n",
      "Prediction accuracy:\n",
      "\n",
      "471/471 [==============================] - 1s 837us/step - loss: 0.3270 - accuracy: 0.8454\n",
      "\n",
      "The loss is 0.32696840167045593, and the accuracy is 0.8454183340072632\n"
     ]
    }
   ],
   "source": [
    "\"\"\"\n",
    "Now that the data is preprocessed for the neural network, we run the neural net.\n",
    "\"\"\"\n",
    "\n",
    "# change directory\n",
    "os.chdir('../Data/Adult')\n",
    "\n",
    "# load data\n",
    "adult_train_data = pd.read_csv('Adult_train_data.csv')\n",
    "adult_train_labels = pd.read_csv('Adult_train_labels.csv')\n",
    "adult_val_data = pd.read_csv('Adult_val_data.csv')\n",
    "adult_val_labels = pd.read_csv('Adult_val_labels.csv')\n",
    "\n",
    "# create neural network with keras sequential model\n",
    "NeuralNet = Sequential()\n",
    "\n",
    "# add 3 layers, one input, one output and one hidden layer\n",
    "NeuralNet.add(Dense(6, activation = 'relu'))\n",
    "NeuralNet.add(Dense(6, activation = 'relu'))\n",
    "NeuralNet.add(Dense(1, activation = 'sigmoid'))\n",
    "NeuralNet.compile(optimizer = 'adam', loss = 'binary_crossentropy', metrics = ['accuracy'])\n",
    "\n",
    "# train the network with training set and training labels\n",
    "print(\"Training the neural network..\\n\")                   \n",
    "NeuralNet.fit(adult_train_data, adult_train_labels, batch_size = 50, epochs = 20, verbose=0)\n",
    "\n",
    "# validate the network with the validation set and labels\n",
    "print(\"\\nPrediction accuracy:\\n\")\n",
    "predication = NeuralNet.predict(adult_val_data)\n",
    "\n",
    "# print the accuracy\n",
    "loss, accuracy = NeuralNet.evaluate(adult_val_data, adult_val_labels)\n",
    "print(f\"\\nThe loss is {loss}, and the accuracy is {accuracy}\")"
   ]
  },
  {
   "cell_type": "markdown",
   "metadata": {},
   "source": [
    "### References\n",
    "The code above was created with help of the following sources:\n",
    "\n",
    "* https://www.kaggle.com/code/ritvikkhanna09/simple-neural-networks-using-keras/notebook#Training-the-Neural-Network , accessed at 13-04-2022\n",
    "\n",
    "* https://github.com/DeepakGunturu/Adult-Dataset-Classification/blob/main/classifiers.py , accessed at 11-04-2022"
   ]
  },
  {
   "cell_type": "markdown",
   "metadata": {},
   "source": [
    "# Student performance data set (in progress, accuracy to be improved)"
   ]
  },
  {
   "cell_type": "markdown",
   "metadata": {},
   "source": [
    "### Run the neural network on the student data set"
   ]
  },
  {
   "cell_type": "code",
   "execution_count": 4,
   "metadata": {},
   "outputs": [
    {
     "name": "stdout",
     "output_type": "stream",
     "text": [
      "Training the neural network..\n",
      "\n",
      "\n",
      "Prediction accuracy:\n",
      "\n",
      "5/5 [==============================] - 0s 1ms/step - loss: 0.0000e+00 - accuracy: 0.1000\n",
      "\n",
      "The loss is 0.0, and the accuracy is 0.10000000149011612\n"
     ]
    }
   ],
   "source": [
    "# change directory\n",
    "os.chdir('../Student')\n",
    "\n",
    "# load data\n",
    "student_train_data = pd.read_csv('student_train_data.csv')\n",
    "student_train_grade = pd.read_csv('student_train_grade.csv')\n",
    "student_val_data = pd.read_csv('student_val_data.csv')\n",
    "student_val_grade = pd.read_csv('student_val_grade.csv')\n",
    "\n",
    "# create neural network with keras sequential model\n",
    "NeuralNet = Sequential()\n",
    "\n",
    "# add 3 layers, one input, one output and one hidden layer\n",
    "NeuralNet.add(Dense(16, activation = 'relu'))\n",
    "NeuralNet.add(Dense(16, activation = 'relu'))\n",
    "NeuralNet.add(Dense(1, activation = 'sigmoid'))\n",
    "NeuralNet.compile(optimizer = 'adam', loss = 'categorical_crossentropy', metrics = ['accuracy'])\n",
    "\n",
    "# train the network with training set and training labels\n",
    "print(\"Training the neural network..\\n\")                   \n",
    "NeuralNet.fit(student_train_data, student_train_grade, batch_size = 10, epochs = 100, verbose=0)\n",
    "\n",
    "# validate the network with the validation set and labels\n",
    "print(\"\\nPrediction accuracy:\\n\")\n",
    "predication = NeuralNet.predict(student_val_data)\n",
    "\n",
    "# print the accuracy\n",
    "loss, accuracy = NeuralNet.evaluate(student_val_data, student_val_grade)\n",
    "print(f\"\\nThe loss is {loss}, and the accuracy is {accuracy}\")"
   ]
  },
  {
   "cell_type": "code",
   "execution_count": 5,
   "metadata": {},
   "outputs": [],
   "source": [
    "# pyRAPL under construction\n",
    "# meter.end()\n",
    "# print(meter.result())"
   ]
  },
  {
   "cell_type": "markdown",
   "metadata": {},
   "source": [
    "Some links on how to improve the neural net of student performance.\n",
    "\n",
    "http://www3.dsi.uminho.pt/pcortez/student.pdf\n",
    "https://stackoverflow.com/questions/50596163/getting-loss-value-as-0-when-training-a-neural-network\n",
    "\n",
    "https://www.theaidream.com/post/loss-functions-in-neural-networks\n",
    "    \n",
    "https://www.youtube.com/watch?v=n0M-EW0IxG4"
   ]
  },
  {
   "cell_type": "code",
   "execution_count": null,
   "metadata": {},
   "outputs": [],
   "source": []
  }
 ],
 "metadata": {
  "kernelspec": {
   "display_name": "Python 3 (ipykernel)",
   "language": "python",
   "name": "python3"
  },
  "language_info": {
   "codemirror_mode": {
    "name": "ipython",
    "version": 3
   },
   "file_extension": ".py",
   "mimetype": "text/x-python",
   "name": "python",
   "nbconvert_exporter": "python",
   "pygments_lexer": "ipython3",
   "version": "3.9.10"
  }
 },
 "nbformat": 4,
 "nbformat_minor": 4
}
