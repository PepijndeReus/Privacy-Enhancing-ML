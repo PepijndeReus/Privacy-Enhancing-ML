{
 "cells": [
  {
   "cell_type": "markdown",
   "id": "c149acb4",
   "metadata": {},
   "source": [
    "# Mann Whitney U test"
   ]
  },
  {
   "cell_type": "code",
   "execution_count": 9,
   "id": "765245db",
   "metadata": {},
   "outputs": [],
   "source": [
    "# import modules\n",
    "import pandas as pd\n",
    "import numpy as np\n",
    "import os\n",
    "\n",
    "from scipy.stats import mannwhitneyu"
   ]
  },
  {
   "cell_type": "markdown",
   "id": "dc6588f8",
   "metadata": {},
   "source": [
    "This notebook contains the code to perform the Mann Whitney U test on the energy consumptions. We start with the Adult set, after which we will proceed to the Student Performance set. All cells should have sufficient comments and documentation to be understood, if not feel free to reach out!"
   ]
  },
  {
   "cell_type": "markdown",
   "id": "a3688826",
   "metadata": {},
   "source": [
    "## Adult data set"
   ]
  },
  {
   "cell_type": "markdown",
   "id": "ab814544",
   "metadata": {},
   "source": [
    "### First for $k$-anonymity"
   ]
  },
  {
   "cell_type": "code",
   "execution_count": 10,
   "id": "0a5e4843",
   "metadata": {},
   "outputs": [
    {
     "name": "stdout",
     "output_type": "stream",
     "text": [
      "30 30 30\n",
      "2423.1678420000003 2162.003201 1827.5290659999996\n"
     ]
    }
   ],
   "source": [
    "models = ['knn','logreg','nn']\n",
    "ks = [3,10,27]\n",
    "data = 'Adult'\n",
    "values = []\n",
    "\n",
    "for k in ks:\n",
    "    for model in models:\n",
    "        df = pd.read_csv('Energy/Energy_' + str(model) + '.csv')\n",
    "        df.columns = ['label','timestamp','duration','pkg','dram','socket']\n",
    "        \n",
    "        desired_data = str(data) + '_' + str(k)\n",
    "        df = df.loc[df['label'] == desired_data]\n",
    "        \n",
    "        pkg = df['pkg']\n",
    "        dram = df['dram']\n",
    "        pkg *= (10**-6)\n",
    "        dram *= (10**-6)\n",
    "             \n",
    "        total = pkg + dram\n",
    "        values.append(total.to_list())\n",
    "\n",
    "# combine ML methods in one list\n",
    "k_3 = values[0] + values[1] + values[2]\n",
    "k_10 = values[3] + values[4] + values[5]\n",
    "k_27 = values[6] + values[7] + values[8]\n",
    "\n",
    "# print lenths and sum to check\n",
    "print(len(k_3), len(k_10), len(k_27))\n",
    "print(sum(k_3), sum(k_10), sum(k_27))"
   ]
  },
  {
   "cell_type": "markdown",
   "id": "5cf46a1b",
   "metadata": {},
   "source": [
    "### Then for synthetic data"
   ]
  },
  {
   "cell_type": "code",
   "execution_count": 11,
   "id": "87d2ecdc",
   "metadata": {},
   "outputs": [
    {
     "name": "stdout",
     "output_type": "stream",
     "text": [
      "60 10896.045939\n"
     ]
    }
   ],
   "source": [
    "values = []\n",
    "\n",
    "for model in models:\n",
    "    df = pd.read_csv('../Synthetic_data/Energy/Energy_' + str(model) + '.csv')\n",
    "    df.columns = ['label','timestamp','duration','pkg','dram','socket']\n",
    "\n",
    "    desired_data = str(data)\n",
    "    df = df.loc[df['label'] == desired_data]\n",
    "\n",
    "    pkg = df['pkg']\n",
    "    dram = df['dram']\n",
    "    pkg *= (10**-6)\n",
    "    dram *= (10**-6)\n",
    "\n",
    "    total = pkg + dram\n",
    "    values.append(total.to_list())\n",
    "\n",
    "# combine ML methods in one list\n",
    "synth = values[0] + values[1] + values[2]\n",
    "\n",
    "# print lenths and sum to check\n",
    "print(len(synth), sum(synth))"
   ]
  },
  {
   "cell_type": "markdown",
   "id": "10fe197f",
   "metadata": {},
   "source": [
    "### Finally, the Mann-Whitney U test itself for the Adult set"
   ]
  },
  {
   "cell_type": "code",
   "execution_count": 21,
   "id": "a18da50e",
   "metadata": {},
   "outputs": [
    {
     "name": "stdout",
     "output_type": "stream",
     "text": [
      "\n",
      "k=3 vs 10, 27, synth\n",
      "MannwhitneyuResult(statistic=648.0, pvalue=0.001517341923053091)\n",
      "MannwhitneyuResult(statistic=662.0, pvalue=0.0007216102699375835)\n",
      "MannwhitneyuResult(statistic=413.0, pvalue=0.9999917646288415)\n",
      "\n",
      "k=10 vs 27, synth\n",
      "MannwhitneyuResult(statistic=609.0, pvalue=0.009165849344885305)\n",
      "MannwhitneyuResult(statistic=402.0, pvalue=0.9999949254716267)\n",
      "\n",
      "k=27 vs synth\n",
      "MannwhitneyuResult(statistic=402.0, pvalue=0.9999949254716267)\n"
     ]
    }
   ],
   "source": [
    "k3_vs_k10 = mannwhitneyu(k_3, k_10, method=\"exact\", alternative=\"greater\")\n",
    "k3_vs_k27 = mannwhitneyu(k_3, k_27, method=\"exact\", alternative=\"greater\")\n",
    "k3_vs_synth = mannwhitneyu(k_3, synth, method=\"exact\", alternative=\"greater\")\n",
    "\n",
    "k10_vs_k27 = mannwhitneyu(k_10, k_27, method=\"exact\", alternative=\"greater\")\n",
    "k10_vs_synth = mannwhitneyu(k_10, synth, method=\"exact\", alternative=\"greater\")\n",
    "\n",
    "k27_vs_synth = mannwhitneyu(k_27, synth, method=\"exact\", alternative=\"greater\")\n",
    "\n",
    "print(\"\\nk=3 vs 10, 27, synth\")\n",
    "print(k3_vs_k10)\n",
    "print(k3_vs_k27)\n",
    "print(k3_vs_synth)\n",
    "\n",
    "print(\"\\nk=10 vs 27, synth\")\n",
    "print(k10_vs_k27)\n",
    "print(k10_vs_synth)\n",
    "\n",
    "print(\"\\nk=27 vs synth\")\n",
    "print(k27_vs_synth)"
   ]
  },
  {
   "cell_type": "markdown",
   "id": "f34ff54d",
   "metadata": {},
   "source": [
    "## Student Performance set"
   ]
  },
  {
   "cell_type": "markdown",
   "id": "6b5a8add",
   "metadata": {},
   "source": [
    "### Next for $k$-anonymity"
   ]
  },
  {
   "cell_type": "code",
   "execution_count": 13,
   "id": "33fe42ea",
   "metadata": {},
   "outputs": [
    {
     "name": "stdout",
     "output_type": "stream",
     "text": [
      "30 30 30\n",
      "487.68262599999997 459.49464299999994 464.17840199999995\n"
     ]
    }
   ],
   "source": [
    "data = 'Student'\n",
    "values = []\n",
    "\n",
    "for k in ks:\n",
    "    for model in models:\n",
    "        df = pd.read_csv('Energy/Energy_' + str(model) + '.csv')\n",
    "        df.columns = ['label','timestamp','duration','pkg','dram','socket']\n",
    "        \n",
    "        desired_data = str(data) + '_' + str(k)\n",
    "        df = df.loc[df['label'] == desired_data]\n",
    "        \n",
    "        pkg = df['pkg']\n",
    "        dram = df['dram']\n",
    "        pkg *= (10**-6)\n",
    "        dram *= (10**-6)\n",
    "             \n",
    "        total = pkg + dram\n",
    "        values.append(total.to_list())\n",
    "\n",
    "# combine ML methods in one list\n",
    "k_3 = values[0] + values[1] + values[2]\n",
    "k_10 = values[3] + values[4] + values[5]\n",
    "k_27 = values[6] + values[7] + values[8]\n",
    "\n",
    "# print lenths and sum to check\n",
    "print(len(k_3), len(k_10), len(k_27))\n",
    "print(sum(k_3), sum(k_10), sum(k_27))"
   ]
  },
  {
   "cell_type": "markdown",
   "id": "9b6aeb58",
   "metadata": {},
   "source": [
    "### Then for synthetic data"
   ]
  },
  {
   "cell_type": "code",
   "execution_count": 14,
   "id": "db7d8380",
   "metadata": {},
   "outputs": [
    {
     "name": "stdout",
     "output_type": "stream",
     "text": [
      "60 1291.451949\n"
     ]
    }
   ],
   "source": [
    "values = []\n",
    "\n",
    "for model in models:\n",
    "    df = pd.read_csv('../Synthetic_data/Energy/Energy_' + str(model) + '.csv')\n",
    "    df.columns = ['label','timestamp','duration','pkg','dram','socket']\n",
    "\n",
    "    desired_data = str(data)\n",
    "    df = df.loc[df['label'] == desired_data]\n",
    "\n",
    "    pkg = df['pkg']\n",
    "    dram = df['dram']\n",
    "    pkg *= (10**-6)\n",
    "    dram *= (10**-6)\n",
    "\n",
    "    total = pkg + dram\n",
    "    values.append(total.to_list())\n",
    "\n",
    "# combine ML methods in one list\n",
    "synth = values[0] + values[1] + values[2]\n",
    "\n",
    "# print lenths and sum to check\n",
    "print(len(synth), sum(synth))"
   ]
  },
  {
   "cell_type": "markdown",
   "id": "6cab0975",
   "metadata": {},
   "source": [
    "### Finally, the Mann-Whitney U test itself for the Student Performance set"
   ]
  },
  {
   "cell_type": "code",
   "execution_count": 20,
   "id": "caac735b",
   "metadata": {},
   "outputs": [
    {
     "name": "stdout",
     "output_type": "stream",
     "text": [
      "\n",
      "k=3 vs 10, 27, synth\n",
      "MannwhitneyuResult(statistic=648.0, pvalue=0.001517341923053091)\n",
      "MannwhitneyuResult(statistic=662.0, pvalue=0.0007216102699375835)\n",
      "MannwhitneyuResult(statistic=413.0, pvalue=0.9999917646288415)\n",
      "\n",
      "k=10 vs 27, synth\n",
      "MannwhitneyuResult(statistic=609.0, pvalue=0.009165849344885305)\n",
      "MannwhitneyuResult(statistic=402.0, pvalue=0.9999949254716267)\n",
      "\n",
      "k=27 vs synth\n",
      "MannwhitneyuResult(statistic=402.0, pvalue=0.9999949254716267)\n"
     ]
    }
   ],
   "source": [
    "k3_vs_k10 = mannwhitneyu(k_3, k_10, method=\"exact\", alternative=\"greater\")\n",
    "k3_vs_k27 = mannwhitneyu(k_3, k_27, method=\"exact\", alternative=\"greater\")\n",
    "k3_vs_synth = mannwhitneyu(k_3, synth, method=\"exact\", alternative=\"greater\")\n",
    "\n",
    "k10_vs_k27 = mannwhitneyu(k_10, k_27, method=\"exact\", alternative=\"greater\")\n",
    "k10_vs_synth = mannwhitneyu(k_10, synth, method=\"exact\", alternative=\"greater\")\n",
    "\n",
    "k27_vs_synth = mannwhitneyu(k_27, synth, method=\"exact\", alternative=\"greater\")\n",
    "\n",
    "print(\"\\nk=3 vs 10, 27, synth\")\n",
    "print(k3_vs_k10)\n",
    "print(k3_vs_k27)\n",
    "print(k3_vs_synth)\n",
    "\n",
    "print(\"\\nk=10 vs 27, synth\")\n",
    "print(k10_vs_k27)\n",
    "print(k10_vs_synth)\n",
    "\n",
    "print(\"\\nk=27 vs synth\")\n",
    "print(k27_vs_synth)"
   ]
  }
 ],
 "metadata": {
  "kernelspec": {
   "display_name": "Python 3 (ipykernel)",
   "language": "python",
   "name": "python3"
  },
  "language_info": {
   "codemirror_mode": {
    "name": "ipython",
    "version": 3
   },
   "file_extension": ".py",
   "mimetype": "text/x-python",
   "name": "python",
   "nbconvert_exporter": "python",
   "pygments_lexer": "ipython3",
   "version": "3.9.10"
  }
 },
 "nbformat": 4,
 "nbformat_minor": 5
}
