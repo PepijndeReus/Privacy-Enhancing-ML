{
 "cells": [
  {
   "cell_type": "markdown",
   "id": "d7cd52f6",
   "metadata": {},
   "source": [
    "## Anonymising data sets with k-anonymity"
   ]
  },
  {
   "cell_type": "markdown",
   "id": "56fe9fbc",
   "metadata": {},
   "source": [
    "ipynb: https://github.com/Nuclearstar/K-Anonymity/blob/master/k-Anonymity.ipynb \\\n",
    "arx site: https://arx.deidentifier.org/ \\\n",
    "arx git: https://github.com/arx-deidentifier/arx \\\n",
    "YT vid: https://www.youtube.com/watch?v=Z_CsRguVPRE \\\n",
    "YT vid: https://www.youtube.com/watch?v=N8I-sxmMfqQ"
   ]
  },
  {
   "cell_type": "code",
   "execution_count": null,
   "id": "95f8c9ba",
   "metadata": {},
   "outputs": [],
   "source": []
  }
 ],
 "metadata": {
  "kernelspec": {
   "display_name": "Python 3 (ipykernel)",
   "language": "python",
   "name": "python3"
  },
  "language_info": {
   "codemirror_mode": {
    "name": "ipython",
    "version": 3
   },
   "file_extension": ".py",
   "mimetype": "text/x-python",
   "name": "python",
   "nbconvert_exporter": "python",
   "pygments_lexer": "ipython3",
   "version": "3.9.10"
  }
 },
 "nbformat": 4,
 "nbformat_minor": 5
}
