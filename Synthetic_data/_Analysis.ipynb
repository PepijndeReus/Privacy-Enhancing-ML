{
 "cells": [
  {
   "cell_type": "code",
   "execution_count": 1,
   "id": "0db2ee1c",
   "metadata": {},
   "outputs": [],
   "source": [
    "import pandas as pd\n",
    "import numpy as np"
   ]
  },
  {
   "cell_type": "code",
   "execution_count": 2,
   "id": "69d0818b",
   "metadata": {},
   "outputs": [
    {
     "name": "stdout",
     "output_type": "stream",
     "text": [
      "###### knn ###### \n",
      "\n",
      "Adult:\n",
      "Average duration for knn: 7.778 in seconds\n",
      "Average pkg for knn: 276.188 in Joules\n",
      "Average dram for knn: 40.829 in Joules\n",
      "total energy used: 317.017\n",
      "Average accuracy for knn on Adult set: 0.802\n",
      "\n",
      "Student:\n",
      "Average duration for knn: 0.043 in seconds\n",
      "Average pkg for knn: 2.005 in Joules\n",
      "Average dram for knn: 0.159 in Joules\n",
      "total energy used: 2.1639999999999997\n",
      "Average accuracy for knn on Student set: 0.728\n",
      "\n",
      "###### logreg ###### \n",
      "\n",
      "Adult:\n",
      "Average duration for logreg: 1.384 in seconds\n",
      "Average pkg for logreg: 65.228 in Joules\n",
      "Average dram for logreg: 6.68 in Joules\n",
      "total energy used: 71.90799999999999\n",
      "Average accuracy for logreg on Adult set: 0.828\n",
      "\n",
      "Student:\n",
      "Average duration for logreg: 0.057 in seconds\n",
      "Average pkg for logreg: 2.752 in Joules\n",
      "Average dram for logreg: 0.216 in Joules\n",
      "total energy used: 2.968\n",
      "Average accuracy for logreg on Student set: 0.756\n",
      "\n",
      "###### nn ###### \n",
      "\n",
      "Adult:\n",
      "Average duration for nn: 9.755 in seconds\n",
      "Average pkg for nn: 132.168 in Joules\n",
      "Average dram for nn: 23.71 in Joules\n",
      "total energy used: 155.87800000000001\n",
      "Average accuracy for nn on Adult set: 0.828\n",
      "\n",
      "Student:\n",
      "Average duration for nn: 3.342 in seconds\n",
      "Average pkg for nn: 51.646 in Joules\n",
      "Average dram for nn: 7.795 in Joules\n",
      "total energy used: 59.441\n",
      "Average accuracy for nn on Student set: 0.756\n",
      "\n"
     ]
    }
   ],
   "source": [
    "models = ['knn','logreg','nn']\n",
    "datasets = ['Adult', 'Student']\n",
    "\n",
    "for model in models:\n",
    "    print(f\"###### {model} ###### \\n\")\n",
    "    for data in datasets:\n",
    "        df = pd.read_csv('Energy/Energy_'+str(model)+'.csv')\n",
    "        df_adult = df.loc[df['label'] == data]\n",
    "        df_student = df.loc[df['label'] == data]\n",
    "\n",
    "        # start with student\n",
    "        duration = df_student['duration'].mean()\n",
    "        pkg = df_student['pkg'].mean()\n",
    "        dram = df_student['dram'].mean()\n",
    "\n",
    "        # convert to seconds and Joules\n",
    "        duration *= (10**-6)\n",
    "        pkg *= (10**-6)\n",
    "        dram *= (10**-6)\n",
    "\n",
    "        print(f\"{data}:\")\n",
    "        print(f\"Average duration for {model}: {round(duration, 3)} in seconds\")\n",
    "        print(f\"Average pkg for {model}: {round(pkg, 3)} in Joules\")\n",
    "        print(f\"Average dram for {model}: {round(dram, 3)} in Joules\")\n",
    "        print(f\"total energy used: {round(pkg, 3) + round(dram, 3)}\")\n",
    "        df = pd.read_csv('output/Accuracy_'+str(model)+'_'+str(data)+'.csv')\n",
    "        df = df.iloc[::2]\n",
    "        df['Accuracy'] = df['Accuracy'].astype(float)\n",
    "        average = round(df['Accuracy'].mean(),3)\n",
    "        print(f\"Average accuracy for {model} on {data} set: {average}\\n\")"
   ]
  },
  {
   "cell_type": "code",
   "execution_count": 3,
   "id": "95edb1c7",
   "metadata": {},
   "outputs": [
    {
     "name": "stdout",
     "output_type": "stream",
     "text": [
      "Adult\n",
      "Average duration for creating: 67.478 in seconds\n",
      "Average pkg for creating: 3584.957 in Joules\n",
      "Average dram for creating: 276.832 in Joules\n",
      "total energy used: 3861.7889999999998\n",
      "\n",
      "Student\n",
      "Average duration for creating: 72.373 in seconds\n",
      "Average pkg for creating: 3948.339 in Joules\n",
      "Average dram for creating: 279.2 in Joules\n",
      "total energy used: 4227.539\n",
      "\n"
     ]
    }
   ],
   "source": [
    "tool = 'creating'\n",
    "datasets = ['Adult', 'Student']\n",
    "\n",
    "for data in datasets:\n",
    "    df = pd.read_csv('Energy/creating_synthetic_' + str(data) +'.csv')\n",
    "    df.columns = ['label','timestamp','duration','pkg','dram','socket']\n",
    "    df = df.loc[df['label'] == data]\n",
    "    duration = df['duration'].mean()\n",
    "    pkg = df['pkg'].mean()\n",
    "    dram = df['dram'].mean()\n",
    "\n",
    "    # convert to seconds and Joules\n",
    "    duration *= (10**-6)\n",
    "    pkg *= (10**-6)\n",
    "    dram *= (10**-6)\n",
    "    \n",
    "    print(data)\n",
    "    print(f\"Average duration for {tool}: {round(duration, 3)} in seconds\")\n",
    "    print(f\"Average pkg for {tool}: {round(pkg, 3)} in Joules\")\n",
    "    print(f\"Average dram for {tool}: {round(dram, 3)} in Joules\")\n",
    "    print(f\"total energy used: {round(pkg, 3) + round(dram, 3)}\\n\")"
   ]
  },
  {
   "cell_type": "code",
   "execution_count": null,
   "id": "2d8d30f1",
   "metadata": {},
   "outputs": [],
   "source": []
  }
 ],
 "metadata": {
  "kernelspec": {
   "display_name": "Python 3 (ipykernel)",
   "language": "python",
   "name": "python3"
  },
  "language_info": {
   "codemirror_mode": {
    "name": "ipython",
    "version": 3
   },
   "file_extension": ".py",
   "mimetype": "text/x-python",
   "name": "python",
   "nbconvert_exporter": "python",
   "pygments_lexer": "ipython3",
   "version": "3.9.10"
  }
 },
 "nbformat": 4,
 "nbformat_minor": 5
}
